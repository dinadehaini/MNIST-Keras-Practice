{
 "cells": [
  {
   "cell_type": "code",
   "execution_count": 21,
   "metadata": {},
   "outputs": [],
   "source": [
    "from keras.datasets import mnist\n",
    "import matplotlib.pyplot as plt\n",
    "from keras.models import Sequential"
   ]
  },
  {
   "cell_type": "code",
   "execution_count": 22,
   "metadata": {},
   "outputs": [],
   "source": [
    "(X_train, y_train), (X_test, y_test) = mnist.load_data()"
   ]
  },
  {
   "cell_type": "code",
   "execution_count": 23,
   "metadata": {},
   "outputs": [
    {
     "data": {
      "image/png": "[encoded data removed]",
      "text/plain": [
       "<Figure size 432x288 with 2 Axes>"
      ]
     },
     "metadata": {
      "needs_background": "light"
     },
     "output_type": "display_data"
    }
   ],
   "source": [
    "plt.subplot(221)\n",
    "plt.imshow(X_train[2],cmap = plt.get_cmap('gray'))\n",
    "plt.subplot(222)\n",
    "plt.imshow(X_train[0],cmap = plt.get_cmap('gray'))\n",
    "plt.show()"
   ]
  },
  {
   "cell_type": "code",
   "execution_count": 24,
   "metadata": {},
   "outputs": [],
   "source": [
    "#flattening from 28x28 to 284 vector\n",
    "img_rows = 28\n",
    "img_cols = 28\n",
    "\n",
    "X_train = X_train.reshape(X_train.shape[0], img_rows, img_cols, 1)\n",
    "X_test = X_test.reshape(X_test.shape[0], img_rows, img_cols, 1)\n",
    "input_shape = (img_rows, img_cols, 1)\n",
    "X_train = X_train.astype('float32')\n",
    "X_test = X_test.astype('float32')"
   ]
  },
  {
   "cell_type": "code",
   "execution_count": 25,
   "metadata": {},
   "outputs": [],
   "source": [
    "# normalize 0-255 values to 0-1 values\n",
    "X_train /= 255\n",
    "X_test /= 255"
   ]
  },
  {
   "cell_type": "code",
   "execution_count": 26,
   "metadata": {},
   "outputs": [
    {
     "name": "stdout",
     "output_type": "stream",
     "text": [
      "X_train shape =  (60000, 28, 28, 1)\n"
     ]
    }
   ],
   "source": [
    "#view training data\n",
    "print('X_train shape = ', X_train.shape)"
   ]
  },
  {
   "cell_type": "code",
   "execution_count": 27,
   "metadata": {},
   "outputs": [],
   "source": [
    "# 10 digits\n",
    "import keras \n",
    "import tensorflow as tf\n",
    "num_classes = 10\n",
    "y_train = keras.utils.to_categorical(y_train, num_classes)\n",
    "y_test = keras.utils.to_categorical(y_test, num_classes)"
   ]
  },
  {
   "cell_type": "code",
   "execution_count": 28,
   "metadata": {},
   "outputs": [],
   "source": [
    "from keras.layers import Dense, Dropout, Flatten, Activation\n",
    "from keras.layers import Conv2D, MaxPooling2D\n",
    "from keras import backend as K\n",
    "\n",
    "model = Sequential()\n",
    "model.add(Conv2D(32, kernel_size = (3,3), activation = 'relu', input_shape = input_shape))\n",
    "model.add(Conv2D(64, kernel_size = (3,3), activation = 'relu'))\n",
    "model.add(MaxPooling2D(pool_size=(2, 2)))\n",
    "model.add(Dropout(0.25))\n",
    "model.add(Flatten())\n",
    "model.add(Dense(128, activation = 'relu'))\n",
    "model.add(Dropout(0.50))\n",
    "model.add(Dense(num_classes, activation = 'softmax'))\n",
    "\n",
    "model.compile(loss = keras.losses.categorical_crossentropy, optimizer = keras.optimizers.Adadelta(), metrics = ['accuracy'])\n",
    "\n",
    "# Model: Sequential\n",
    "# Convolutional layer\n",
    "# Convolutional Layer\n",
    "# Pooling layer\n",
    "# Dropout layer\n",
    "# Flatten layer\n",
    "# Dense layer\n",
    "# Dropout layyer\n",
    "# Dense layer (10 neurson using the softmax activation function)"
   ]
  },
  {
   "cell_type": "code",
   "execution_count": 29,
   "metadata": {},
   "outputs": [
    {
     "name": "stdout",
     "output_type": "stream",
     "text": [
      "Train on 60000 samples, validate on 10000 samples\n",
      "Epoch 1/12\n",
      "60000/60000 [==============================] - 105s 2ms/step - loss: 0.2675 - accuracy: 0.9185 - val_loss: 0.0627 - val_accuracy: 0.9790\n",
      "Epoch 2/12\n",
      "60000/60000 [==============================] - 93s 2ms/step - loss: 0.0908 - accuracy: 0.9731 - val_loss: 0.0392 - val_accuracy: 0.9871\n",
      "Epoch 3/12\n",
      "60000/60000 [==============================] - 87s 1ms/step - loss: 0.0662 - accuracy: 0.9807 - val_loss: 0.0340 - val_accuracy: 0.9888\n",
      "Epoch 4/12\n",
      "60000/60000 [==============================] - 89s 1ms/step - loss: 0.0543 - accuracy: 0.9837 - val_loss: 0.0299 - val_accuracy: 0.9895\n",
      "Epoch 5/12\n",
      "60000/60000 [==============================] - 89s 1ms/step - loss: 0.0451 - accuracy: 0.9859 - val_loss: 0.0274 - val_accuracy: 0.9910\n",
      "Epoch 6/12\n",
      "60000/60000 [==============================] - 91s 2ms/step - loss: 0.0411 - accuracy: 0.9873 - val_loss: 0.0285 - val_accuracy: 0.9909\n",
      "Epoch 7/12\n",
      "60000/60000 [==============================] - 91s 2ms/step - loss: 0.0375 - accuracy: 0.9885 - val_loss: 0.0283 - val_accuracy: 0.9900\n",
      "Epoch 8/12\n",
      "60000/60000 [==============================] - 88s 1ms/step - loss: 0.0348 - accuracy: 0.9896 - val_loss: 0.0309 - val_accuracy: 0.9886\n",
      "Epoch 9/12\n",
      "60000/60000 [==============================] - 93s 2ms/step - loss: 0.0333 - accuracy: 0.9905 - val_loss: 0.0271 - val_accuracy: 0.9907\n",
      "Epoch 10/12\n",
      "60000/60000 [==============================] - 94s 2ms/step - loss: 0.0295 - accuracy: 0.9911 - val_loss: 0.0266 - val_accuracy: 0.9913\n",
      "Epoch 11/12\n",
      "60000/60000 [==============================] - 92s 2ms/step - loss: 0.0278 - accuracy: 0.9916 - val_loss: 0.0251 - val_accuracy: 0.9917\n",
      "Epoch 12/12\n",
      "60000/60000 [==============================] - 91s 2ms/step - loss: 0.0240 - accuracy: 0.9924 - val_loss: 0.0275 - val_accuracy: 0.9920\n",
      "Test Accuracy:  0.9919999837875366\n",
      "Test Loss:  0.027462975677576832\n"
     ]
    }
   ],
   "source": [
    "batch_size = 128\n",
    "epochs = 12\n",
    "\n",
    "model.fit(X_train, y_train, batch_size = batch_size, epochs = epochs, verbose = 1, validation_data = (X_test, y_test))\n",
    "score = model.evaluate(X_test, y_test, verbose = 0)\n",
    "\n",
    "print('Test Accuracy: ', score[1])\n",
    "print('Test Loss: ', score[0])\n",
    "\n",
    "model.save('mnist.h5')"
   ]
  },
  {
   "cell_type": "code",
   "execution_count": 41,
   "metadata": {},
   "outputs": [],
   "source": [
    "from keras.models import load_model\n",
    "\n",
    "def prep_image(image_file_name):\n",
    "    x = imread(image_file_name, pilmode = 'L')\n",
    "    x = np.invert(x)\n",
    "    x = tf.image.resize(x, (28,28))\n",
    "    x = x.reshape(1, 28, 28, 1)\n",
    "    x = x.astype('float32')\n",
    "    x /= 255\n",
    "    return x\n",
    "def predict_image(image_file_name):\n",
    "    x = prep_image(image_file_name)\n",
    "    model = load_model('mnist.h5')\n",
    "    result = model.predict(x)\n",
    "    return result"
   ]
  },
  {
   "cell_type": "code",
   "execution_count": 43,
   "metadata": {},
   "outputs": [],
   "source": [
    "#from skimage.io import imread\n",
    "#import numpy as np\n",
    "#image_name = 'mnistTest.jpg'\n",
    "#result = predict_image(image_name)\n",
    "#print(result)"
   ]
  },
  {
   "cell_type": "code",
   "execution_count": null,
   "metadata": {},
   "outputs": [],
   "source": [
    "#predicted_value = np.argmax(result)\n",
    "#print(predicted_value)"
   ]
  }
 ],
 "metadata": {
  "kernelspec": {
   "display_name": "Python 3",
   "language": "python",
   "name": "python3"
  },
  "language_info": {
   "codemirror_mode": {
    "name": "ipython",
    "version": 3
   },
   "file_extension": ".py",
   "mimetype": "text/x-python",
   "name": "python",
   "nbconvert_exporter": "python",
   "pygments_lexer": "ipython3",
   "version": "3.6.12"
  }
 },
 "nbformat": 4,
 "nbformat_minor": 4
}
